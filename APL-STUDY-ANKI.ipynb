{
 "cells": [
  {
   "cell_type": "code",
   "execution_count": 1,
   "id": "8bb3e110",
   "metadata": {},
   "outputs": [],
   "source": [
    "import json\n",
    "import pandas as pd\n",
    "from fastcore.all import *\n",
    "from urllib.request import urlopen\n"
   ]
  },
  {
   "cell_type": "markdown",
   "id": "e06dae8e",
   "metadata": {},
   "source": [
    "# Setup"
   ]
  },
  {
   "cell_type": "code",
   "execution_count": 2,
   "id": "9736329e",
   "metadata": {},
   "outputs": [],
   "source": [
    "# Load NB\n",
    "url = 'https://raw.githubusercontent.com/fastai/apl-study/master/posts/APL.ipynb'\n",
    "nb = json.loads(urlopen(url).read())\n",
    "#Initialize Lists\n",
    "cards = []\n",
    "failed_idxs = []"
   ]
  },
  {
   "cell_type": "markdown",
   "id": "5a9d08ee",
   "metadata": {},
   "source": [
    "# Helpers"
   ]
  },
  {
   "cell_type": "code",
   "execution_count": 3,
   "id": "7ed2d1e3",
   "metadata": {},
   "outputs": [],
   "source": [
    "# Define newlines on cards\n",
    "def collapse_list(l): return '<br/>'.join(l) + '<br/>'"
   ]
  },
  {
   "cell_type": "markdown",
   "id": "7ed5cfc5",
   "metadata": {},
   "source": [
    "# Make Code Cards\n",
    "\n",
    "1. Get all code cells that have both code and outputs\n",
    "1. Create 1 card per code cell:  Given the code (front), predict that output (back)"
   ]
  },
  {
   "cell_type": "code",
   "execution_count": 4,
   "id": "51c47022",
   "metadata": {},
   "outputs": [],
   "source": [
    "def cell_filter(cell):\n",
    "    cond1 = cell['cell_type'] == 'code'\n",
    "    cond2 = ('outputs' in cell.keys()) and (cell['outputs'] != [])\n",
    "    cond3 = cell['source'] != []\n",
    "    return cond1 and cond2 and cond3"
   ]
  },
  {
   "cell_type": "code",
   "execution_count": 5,
   "id": "f553f7ee",
   "metadata": {},
   "outputs": [],
   "source": [
    "filtered_codes = L(nb['cells']).filter(cell_filter)"
   ]
  },
  {
   "cell_type": "code",
   "execution_count": 6,
   "id": "d65740a5",
   "metadata": {},
   "outputs": [
    {
     "data": {
      "text/html": [
       "<div>\n",
       "<style scoped>\n",
       "    .dataframe tbody tr th:only-of-type {\n",
       "        vertical-align: middle;\n",
       "    }\n",
       "\n",
       "    .dataframe tbody tr th {\n",
       "        vertical-align: top;\n",
       "    }\n",
       "\n",
       "    .dataframe thead th {\n",
       "        text-align: right;\n",
       "    }\n",
       "</style>\n",
       "<table border=\"1\" class=\"dataframe\">\n",
       "  <thead>\n",
       "    <tr style=\"text-align: right;\">\n",
       "      <th></th>\n",
       "      <th>0</th>\n",
       "      <th>1</th>\n",
       "    </tr>\n",
       "  </thead>\n",
       "  <tbody>\n",
       "    <tr>\n",
       "      <th>0</th>\n",
       "      <td>2 3 1&lt;br/&gt;</td>\n",
       "      <td>&lt;span style=\"white-space:pre; font-family: mon...</td>\n",
       "    </tr>\n",
       "    <tr>\n",
       "      <th>0</th>\n",
       "      <td>⍴mat&lt;br/&gt;</td>\n",
       "      <td>&lt;span style=\"white-space:pre; font-family: mon...</td>\n",
       "    </tr>\n",
       "    <tr>\n",
       "      <th>0</th>\n",
       "      <td>(1 2)(3 4)'ab'&lt;br/&gt;</td>\n",
       "      <td>&lt;span style=\"white-space:pre; font-family: mon...</td>\n",
       "    </tr>\n",
       "    <tr>\n",
       "      <th>0</th>\n",
       "      <td>⍳4&lt;br/&gt;</td>\n",
       "      <td>&lt;span style=\"white-space:pre; font-family: mon...</td>\n",
       "    </tr>\n",
       "    <tr>\n",
       "      <th>0</th>\n",
       "      <td>3-2&lt;br/&gt;</td>\n",
       "      <td>&lt;span style=\"white-space:pre; font-family: mon...</td>\n",
       "    </tr>\n",
       "  </tbody>\n",
       "</table>\n",
       "</div>"
      ],
      "text/plain": [
       "                     0                                                  1\n",
       "0           2 3 1<br/>  <span style=\"white-space:pre; font-family: mon...\n",
       "0            ⍴mat<br/>  <span style=\"white-space:pre; font-family: mon...\n",
       "0  (1 2)(3 4)'ab'<br/>  <span style=\"white-space:pre; font-family: mon...\n",
       "0              ⍳4<br/>  <span style=\"white-space:pre; font-family: mon...\n",
       "0             3-2<br/>  <span style=\"white-space:pre; font-family: mon..."
      ]
     },
     "execution_count": 6,
     "metadata": {},
     "output_type": "execute_result"
    }
   ],
   "source": [
    "code_cards = []\n",
    "for cell in filtered_codes:\n",
    "    src = collapse_list(cell['source'])\n",
    "    out = collapse_list(cell['outputs'][0]['data']['text/html'])\n",
    "    code_cards.append(pd.DataFrame([[src,out]]))\n",
    "pd.concat(code_cards).sample(5)"
   ]
  },
  {
   "cell_type": "markdown",
   "id": "3ad3cc48",
   "metadata": {},
   "source": [
    "# Make Markdown Cards\n",
    "\n",
    "1. Get all markdown cells with L3/4/5 headers, and has something in backticks (ie a symbol)\n",
    "1. For all unique items in backticks ('symbols') create 2 cards\n",
    "    + From symbol (front), predict the name (back)\n",
    "    + From name (frame), predict the symbol (back)"
   ]
  },
  {
   "cell_type": "markdown",
   "id": "7f96092f",
   "metadata": {},
   "source": [
    "## Filter for valid headers\n",
    "+ Markdown\n",
    "+ L3/4/5 header\n",
    "+ Has something in backticks (ie a symbol)"
   ]
  },
  {
   "cell_type": "code",
   "execution_count": 7,
   "id": "53e327f0",
   "metadata": {},
   "outputs": [
    {
     "data": {
      "text/plain": [
       "['`-` (Minus sign; Bar)<br/>',\n",
       " 'Monadic `-` (Negate)<br/>',\n",
       " 'Dyadic `-` (Minus; subtract)<br/>',\n",
       " '`+` (Plus sign)<br/>',\n",
       " 'Monadic `+` (Conjugate)<br/>']"
      ]
     },
     "execution_count": 7,
     "metadata": {},
     "output_type": "execute_result"
    }
   ],
   "source": [
    "def cell_filter(cell): \n",
    "    cond1 = cell['cell_type']=='markdown'\n",
    "    src = ''.join(cell['source'])\n",
    "    cond2 = '###' in src\n",
    "    cond3 = ' '.join(re.findall(r'`+.`',src)) != ''\n",
    "    return cond1 and cond2 and cond3\n",
    "filtered_headers = L(nb['cells']).filter(cell_filter)\n",
    "cleaned_headers = L(collapse_list([v.replace('#','').strip() for v in o['source']]) for o in filtered_headers)\n",
    "list(cleaned_headers[:5])"
   ]
  },
  {
   "cell_type": "code",
   "execution_count": 8,
   "id": "dcaa4fd6",
   "metadata": {},
   "outputs": [
    {
     "data": {
      "text/plain": [
       "(#14) ['`-`','`+`','`÷`','`×`','`*`','`⍴`','`⍳`','`=`','`≠`','`<`'...]"
      ]
     },
     "execution_count": 8,
     "metadata": {},
     "output_type": "execute_result"
    }
   ],
   "source": [
    "def get_unique_symbols(cleaned_headers):\n",
    "    return L(re.findall(r'`+.`',''.join(cleaned_headers))).unique()\n",
    "unique_symbols = get_unique_symbols(cleaned_headers)\n",
    "unique_symbols"
   ]
  },
  {
   "cell_type": "code",
   "execution_count": 9,
   "id": "7cb4751a",
   "metadata": {},
   "outputs": [
    {
     "data": {
      "text/html": [
       "<div>\n",
       "<style scoped>\n",
       "    .dataframe tbody tr th:only-of-type {\n",
       "        vertical-align: middle;\n",
       "    }\n",
       "\n",
       "    .dataframe tbody tr th {\n",
       "        vertical-align: top;\n",
       "    }\n",
       "\n",
       "    .dataframe thead th {\n",
       "        text-align: right;\n",
       "    }\n",
       "</style>\n",
       "<table border=\"1\" class=\"dataframe\">\n",
       "  <thead>\n",
       "    <tr style=\"text-align: right;\">\n",
       "      <th></th>\n",
       "      <th>0</th>\n",
       "      <th>1</th>\n",
       "    </tr>\n",
       "  </thead>\n",
       "  <tbody>\n",
       "    <tr>\n",
       "      <th>0</th>\n",
       "      <td>(Equal underbar)&lt;br/&gt;&lt;br/&gt;monadic  (Depth)&lt;br...</td>\n",
       "      <td>`≡`</td>\n",
       "    </tr>\n",
       "    <tr>\n",
       "      <th>0</th>\n",
       "      <td>`≥`</td>\n",
       "      <td>(Greater than or equal to sign)&lt;br/&gt;&lt;br/&gt;dyad...</td>\n",
       "    </tr>\n",
       "    <tr>\n",
       "      <th>0</th>\n",
       "      <td>monadic  (index generator)&lt;br/&gt;&lt;br/&gt;dyadic  (i...</td>\n",
       "      <td>`⍳`</td>\n",
       "    </tr>\n",
       "    <tr>\n",
       "      <th>0</th>\n",
       "      <td>`÷`</td>\n",
       "      <td>(Divide sign)&lt;br/&gt;&lt;br/&gt;Monadic  (Reciprocol)&lt;...</td>\n",
       "    </tr>\n",
       "    <tr>\n",
       "      <th>0</th>\n",
       "      <td>(Minus sign; Bar)&lt;br/&gt;&lt;br/&gt;Monadic  (Negate)&lt;...</td>\n",
       "      <td>`-`</td>\n",
       "    </tr>\n",
       "  </tbody>\n",
       "</table>\n",
       "</div>"
      ],
      "text/plain": [
       "                                                   0  \\\n",
       "0   (Equal underbar)<br/><br/>monadic  (Depth)<br...   \n",
       "0                                                `≥`   \n",
       "0  monadic  (index generator)<br/><br/>dyadic  (i...   \n",
       "0                                                `÷`   \n",
       "0   (Minus sign; Bar)<br/><br/>Monadic  (Negate)<...   \n",
       "\n",
       "                                                   1  \n",
       "0                                                `≡`  \n",
       "0   (Greater than or equal to sign)<br/><br/>dyad...  \n",
       "0                                                `⍳`  \n",
       "0   (Divide sign)<br/><br/>Monadic  (Reciprocol)<...  \n",
       "0                                                `-`  "
      ]
     },
     "execution_count": 9,
     "metadata": {},
     "output_type": "execute_result"
    }
   ],
   "source": [
    "md_cards = []\n",
    "for sym in unique_symbols:\n",
    "    desc = collapse_list(cleaned_headers.filter(lambda x: sym in x)).replace(sym,'')\n",
    "    md_cards.append(pd.DataFrame([[sym,desc]]))\n",
    "    md_cards.append(pd.DataFrame([[desc,sym]]))\n",
    "pd.concat(md_cards).sample(5)"
   ]
  },
  {
   "cell_type": "markdown",
   "id": "80026029",
   "metadata": {},
   "source": [
    "# Combine and Write"
   ]
  },
  {
   "cell_type": "code",
   "execution_count": 10,
   "id": "98973fd7",
   "metadata": {},
   "outputs": [],
   "source": [
    "pd.concat([pd.concat(code_cards),pd.concat(md_cards)]).to_csv('deck.csv',index=False,header=False)"
   ]
  },
  {
   "cell_type": "code",
   "execution_count": null,
   "id": "d245fe50",
   "metadata": {},
   "outputs": [],
   "source": []
  }
 ],
 "metadata": {
  "kernelspec": {
   "display_name": "Python 3 (ipykernel)",
   "language": "python",
   "name": "python3"
  },
  "language_info": {
   "codemirror_mode": {
    "name": "ipython",
    "version": 3
   },
   "file_extension": ".py",
   "mimetype": "text/x-python",
   "name": "python",
   "nbconvert_exporter": "python",
   "pygments_lexer": "ipython3",
   "version": "3.9.7"
  },
  "toc": {
   "base_numbering": 1,
   "nav_menu": {},
   "number_sections": true,
   "sideBar": true,
   "skip_h1_title": false,
   "title_cell": "Table of Contents",
   "title_sidebar": "Contents",
   "toc_cell": false,
   "toc_position": {},
   "toc_section_display": true,
   "toc_window_display": false
  }
 },
 "nbformat": 4,
 "nbformat_minor": 5
}
