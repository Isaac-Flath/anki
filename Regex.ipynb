{
 "cells": [
  {
   "cell_type": "code",
   "execution_count": 28,
   "id": "33abbf90",
   "metadata": {
    "ExecuteTime": {
     "end_time": "2022-07-12T21:25:39.876683Z",
     "start_time": "2022-07-12T21:25:39.869628Z"
    }
   },
   "outputs": [],
   "source": [
    "import pandas as pd"
   ]
  },
  {
   "cell_type": "code",
   "execution_count": 29,
   "id": "ee78395b",
   "metadata": {
    "ExecuteTime": {
     "end_time": "2022-07-12T21:25:40.083051Z",
     "start_time": "2022-07-12T21:25:40.010188Z"
    }
   },
   "outputs": [],
   "source": [
    "df = pd.read_excel('Regex.xlsx')[['Front','Back','Tag']]"
   ]
  },
  {
   "cell_type": "code",
   "execution_count": 30,
   "id": "7a0bf4ad",
   "metadata": {
    "ExecuteTime": {
     "end_time": "2022-07-12T21:25:40.386417Z",
     "start_time": "2022-07-12T21:25:40.362569Z"
    }
   },
   "outputs": [],
   "source": [
    "_df1 = df[['Front','Back','Tag']]\n",
    "_df2 = df[['Back','Front','Tag']]\n",
    "for x in [_df1,_df2]:\n",
    "    x.columns = ['Front','Back','Tag'] \n",
    "    \n",
    "df = pd.concat([_df1,_df2])\n",
    "df.to_csv('decks/Regex_Symbols.csv',index=False, header=False)"
   ]
  },
  {
   "cell_type": "code",
   "execution_count": 34,
   "id": "6ac18d16",
   "metadata": {
    "ExecuteTime": {
     "end_time": "2022-07-12T21:27:34.583230Z",
     "start_time": "2022-07-12T21:27:34.561729Z"
    }
   },
   "outputs": [
    {
     "data": {
      "text/html": [
       "<div>\n",
       "<style scoped>\n",
       "    .dataframe tbody tr th:only-of-type {\n",
       "        vertical-align: middle;\n",
       "    }\n",
       "\n",
       "    .dataframe tbody tr th {\n",
       "        vertical-align: top;\n",
       "    }\n",
       "\n",
       "    .dataframe thead th {\n",
       "        text-align: right;\n",
       "    }\n",
       "</style>\n",
       "<table border=\"1\" class=\"dataframe\">\n",
       "  <thead>\n",
       "    <tr style=\"text-align: right;\">\n",
       "      <th></th>\n",
       "      <th>Back</th>\n",
       "      <th>Tag</th>\n",
       "    </tr>\n",
       "    <tr>\n",
       "      <th>Front</th>\n",
       "      <th></th>\n",
       "      <th></th>\n",
       "    </tr>\n",
       "  </thead>\n",
       "  <tbody>\n",
       "    <tr>\n",
       "      <th>$</th>\n",
       "      <td>1</td>\n",
       "      <td>1</td>\n",
       "    </tr>\n",
       "    <tr>\n",
       "      <th>( )</th>\n",
       "      <td>1</td>\n",
       "      <td>1</td>\n",
       "    </tr>\n",
       "    <tr>\n",
       "      <th>[a-z0-9]</th>\n",
       "      <td>1</td>\n",
       "      <td>1</td>\n",
       "    </tr>\n",
       "    <tr>\n",
       "      <th>[a-]</th>\n",
       "      <td>1</td>\n",
       "      <td>1</td>\n",
       "    </tr>\n",
       "    <tr>\n",
       "      <th>[^ab5]</th>\n",
       "      <td>1</td>\n",
       "      <td>1</td>\n",
       "    </tr>\n",
       "    <tr>\n",
       "      <th>...</th>\n",
       "      <td>...</td>\n",
       "      <td>...</td>\n",
       "    </tr>\n",
       "    <tr>\n",
       "      <th>Lookahead assertion. This matches the expression A only if it is followed by B.</th>\n",
       "      <td>1</td>\n",
       "      <td>1</td>\n",
       "    </tr>\n",
       "    <tr>\n",
       "      <th>Locale dependent</th>\n",
       "      <td>1</td>\n",
       "      <td>1</td>\n",
       "    </tr>\n",
       "    <tr>\n",
       "      <th>L</th>\n",
       "      <td>1</td>\n",
       "      <td>1</td>\n",
       "    </tr>\n",
       "    <tr>\n",
       "      <th>Inside parentheses like this, ? acts as an extension notation. Its meaning depends on the character immediately to its right.</th>\n",
       "      <td>1</td>\n",
       "      <td>1</td>\n",
       "    </tr>\n",
       "    <tr>\n",
       "      <th>{m}</th>\n",
       "      <td>1</td>\n",
       "      <td>1</td>\n",
       "    </tr>\n",
       "  </tbody>\n",
       "</table>\n",
       "<p>104 rows × 2 columns</p>\n",
       "</div>"
      ],
      "text/plain": [
       "                                                    Back  Tag\n",
       "Front                                                        \n",
       "$                                                      1    1\n",
       "( )                                                    1    1\n",
       "[a-z0-9]                                               1    1\n",
       "[a-]                                                   1    1\n",
       "[^ab5]                                                 1    1\n",
       "...                                                  ...  ...\n",
       "Lookahead assertion. This matches the expressio...     1    1\n",
       "Locale dependent                                       1    1\n",
       "L                                                      1    1\n",
       "Inside parentheses like this, ? acts as an exte...     1    1\n",
       "{m}                                                    1    1\n",
       "\n",
       "[104 rows x 2 columns]"
      ]
     },
     "execution_count": 34,
     "metadata": {},
     "output_type": "execute_result"
    }
   ],
   "source": [
    "df.groupby('Front').count().sort_values('Back',ascending=False)"
   ]
  },
  {
   "cell_type": "code",
   "execution_count": null,
   "id": "43184083",
   "metadata": {},
   "outputs": [],
   "source": []
  }
 ],
 "metadata": {
  "kernelspec": {
   "display_name": "Python 3 (ipykernel)",
   "language": "python",
   "name": "python3"
  },
  "language_info": {
   "codemirror_mode": {
    "name": "ipython",
    "version": 3
   },
   "file_extension": ".py",
   "mimetype": "text/x-python",
   "name": "python",
   "nbconvert_exporter": "python",
   "pygments_lexer": "ipython3",
   "version": "3.9.7"
  },
  "toc": {
   "base_numbering": 1,
   "nav_menu": {},
   "number_sections": true,
   "sideBar": true,
   "skip_h1_title": false,
   "title_cell": "Table of Contents",
   "title_sidebar": "Contents",
   "toc_cell": false,
   "toc_position": {},
   "toc_section_display": true,
   "toc_window_display": false
  }
 },
 "nbformat": 4,
 "nbformat_minor": 5
}
