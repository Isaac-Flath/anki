{
 "cells": [
  {
   "cell_type": "code",
   "execution_count": 1,
   "id": "e14b831a",
   "metadata": {},
   "outputs": [],
   "source": [
    "import requests\n",
    "from bs4 import BeautifulSoup\n",
    "from IPython.core.display import HTML\n",
    "from fastcore.all import *\n",
    "import pandas as pd\n",
    "import json\n",
    "from datetime import datetime\n",
    "import json\n",
    "from urllib.request import urlopen"
   ]
  },
  {
   "cell_type": "code",
   "execution_count": 2,
   "id": "3ff62868",
   "metadata": {},
   "outputs": [],
   "source": [
    "main_url = 'https://help.dyalog.com/18.2/Content/Language/Introduction/Language%20Elements.htm?tocpath=Language%20Reference%20Guide%7CSymbols%7C_____1'\n",
    "content = requests.get(main_url)\n",
    "content.encoding = content.apparent_encoding\n",
    "\n",
    "main=BeautifulSoup(content.text)\n",
    "\n",
    "symbol_tags = main.find_all('a',attrs={'href':lambda x: x.startswith('../Symbols/')})\n",
    "symbols_dict = {o.text:o['href'] for o in symbol_tags}"
   ]
  },
  {
   "cell_type": "markdown",
   "id": "88fc872a",
   "metadata": {},
   "source": [
    "# General Cards from Dyalog Docs"
   ]
  },
  {
   "cell_type": "code",
   "execution_count": 3,
   "id": "6bc1db48",
   "metadata": {},
   "outputs": [],
   "source": [
    "base = 'https://help.dyalog.com/18.2/Content/Language'"
   ]
  },
  {
   "cell_type": "code",
   "execution_count": 4,
   "id": "8a03ac67",
   "metadata": {},
   "outputs": [],
   "source": [
    "def get_hyperlink(url,url_type):\n",
    "    return f\" <br/><br/><a href='{url}'>Take me to {url_type}</a>\""
   ]
  },
  {
   "cell_type": "code",
   "execution_count": 5,
   "id": "8f360038",
   "metadata": {
    "scrolled": true
   },
   "outputs": [
    {
     "name": "stdout",
     "output_type": "stream",
     "text": [
      "65\n",
      "72\n",
      "72\n",
      "72\n"
     ]
    }
   ],
   "source": [
    "cards = []\n",
    "for i,sym in enumerate(L(*symbols_dict.keys())):\n",
    "    doc_url = symbols_dict[sym]\n",
    "    url1 = base + doc_url[2:]\n",
    "\n",
    "    content = requests.get(url1)\n",
    "    content.encoding = content.apparent_encoding\n",
    "    doc_html = BeautifulSoup(content.text)\n",
    "\n",
    "    doc_h5s = doc_html.find_all('h5')\n",
    "    doc_h3 = doc_html.find('td').find('a',attrs={'name':lambda o: not o.startswith('kanchor')})\n",
    "    \n",
    "    \n",
    "    if doc_html.find('td').text.strip() == '':\n",
    "        _2 = doc_h3['name']\n",
    "    else: _2 = doc_html.find('td').text.strip()\n",
    "    \n",
    "    # Name of glyph -> Symbol\n",
    "    cards.append(pd.DataFrame([[_2 + \"<br/><br/>What does this glyph look like?\",\n",
    "                                sym + get_hyperlink(url1,\"symbol documentation\"),\n",
    "                               \"Name->Sym\"\n",
    "                               ]]))\n",
    "    urls = L(url1)\n",
    "    for doc_h5 in doc_h5s:\n",
    "        \n",
    "        p = doc_h5.find_next_sibling('p')\n",
    "        dy_or_mon_name = ''.join(re.findall('Dyadic|Monadic',doc_h5.text)) + ': ' + p.text.strip()\n",
    "        \n",
    "        # Mondadic/Dyadic Name -> Symbol\n",
    "        cards.append(pd.DataFrame([[dy_or_mon_name + \"<br/><br/>What does this glyph look like?\",\n",
    "                                    sym + get_hyperlink(url1,\"symbol documentation\"),\n",
    "                                   \"Name->Sym\"\n",
    "                                   ]]))\n",
    "        _2  = _2 + ' <br/> ' + dy_or_mon_name \n",
    "        \n",
    "        \n",
    "        url_end = [o.find('a',attrs={'href':True}) for o in doc_h5.find_next_siblings('p') if o.find('a',attrs={'href':True}) is not None][0]['href']\n",
    "#         url2 = base + p.find('a',attrs={'href':True})['href'][2:]\n",
    "        url2 = base + url_end[2:]\n",
    "        urls.append(url2)\n",
    "        \n",
    "        content = requests.get(url2)\n",
    "        content.encoding = content.apparent_encoding\n",
    "        doc_html = BeautifulSoup(content.text)\n",
    "    \n",
    "        try:\n",
    "            desc = [o.text for o in doc_html.find('td').find_all_next('p') if o.text.strip() != '']\n",
    "\n",
    "            documentation = ' <br/> '.join(desc)\n",
    "            \n",
    "            # Functional documentation -> Symbol\n",
    "            cards.append(pd.DataFrame([[documentation + \"<br/><br/>What does this glyph look like?\",\n",
    "                                        sym + get_hyperlink(url1,\"symbol documentation\") + get_hyperlink(url2,\"primitive function documentation\"),\n",
    "                                       \"Docs->Sym\"\n",
    "                                       ]]))\n",
    "        except:\n",
    "            print(i)\n",
    "        try:\n",
    "            doc_name = doc_html.find('td').find('a',attrs={'name':lambda o: not o.startswith('kanchor')})\n",
    "            if doc_name['name'] not in _2:\n",
    "                # Documentation Name -> Symbol\n",
    "                cards.append(pd.DataFrame([[doc_name['name'] + \"<br/><br/>What does this glyph look like?\",\n",
    "                                            sym + get_hyperlink(url1,\"symbol documentation\") + get_hyperlink(url2,\"primitive function documentation\"),\n",
    "                                           \"Name->Sym\"\n",
    "                                           ]]))\n",
    "\n",
    "            # Documentation Name -> Functional Documentation\n",
    "            # Functional Documentation -> Documentation Name\n",
    "            cards.append(pd.DataFrame([\n",
    "                    [doc_name['name'] + \"<br/><br/>What does this glyph do?\",\n",
    "                     documentation + get_hyperlink(url1,\"symbol documentation\") + get_hyperlink(url2,\"primitive function documentation\"),\n",
    "                     \"Name->Docs\"\n",
    "                    ],\n",
    "                    [documentation + \"<br/><br/>What is the name of this glyph?\",\n",
    "                     doc_name['name'] + get_hyperlink(url1,\"symbol documentation\") + get_hyperlink(url2,\"primitive function documentation\"),\n",
    "                    \"Docs->Name\"\n",
    "                    ],\n",
    "                               \n",
    "                    ]))\n",
    "        except:\n",
    "            print(i)\n",
    "    \n",
    "    # Symbol -> Functional Documentation\n",
    "    cards.append(pd.DataFrame([[sym + \"<br/><br/>What does this glyph do?\",\n",
    "                                        documentation + ''.join([get_hyperlink(o,\"Link\") for o in urls.unique()]),\n",
    "                                       \"Sym->Docs\"\n",
    "                                       ]]))\n",
    "    # Symbol -> Names\n",
    "    cards.append(pd.DataFrame([[sym + \"<br/><br/>What is this glyph called?  What's the Monadic/Dyadic names?\",\n",
    "                                _2 + get_hyperlink(url1,\"symbol documentation\"),\n",
    "                               \"Sym->Name\"]]))"
   ]
  },
  {
   "cell_type": "code",
   "execution_count": 6,
   "id": "4cad6c16",
   "metadata": {},
   "outputs": [
    {
     "data": {
      "text/html": [
       "<div>\n",
       "<style scoped>\n",
       "    .dataframe tbody tr th:only-of-type {\n",
       "        vertical-align: middle;\n",
       "    }\n",
       "\n",
       "    .dataframe tbody tr th {\n",
       "        vertical-align: top;\n",
       "    }\n",
       "\n",
       "    .dataframe thead th {\n",
       "        text-align: right;\n",
       "    }\n",
       "</style>\n",
       "<table border=\"1\" class=\"dataframe\">\n",
       "  <thead>\n",
       "    <tr style=\"text-align: right;\">\n",
       "      <th></th>\n",
       "      <th>0</th>\n",
       "      <th>1</th>\n",
       "      <th>2</th>\n",
       "    </tr>\n",
       "  </thead>\n",
       "  <tbody>\n",
       "    <tr>\n",
       "      <th>0</th>\n",
       "      <td>,&lt;br/&gt;&lt;br/&gt;What does this glyph do?</td>\n",
       "      <td>Y may be any array.  X may be any array.  The ...</td>\n",
       "      <td>Sym-&gt;Docs</td>\n",
       "    </tr>\n",
       "    <tr>\n",
       "      <th>0</th>\n",
       "      <td>Y may be any array.  X is a simple integer vec...</td>\n",
       "      <td>/ &lt;br/&gt;&lt;br/&gt;&lt;a href='https://help.dyalog.com/1...</td>\n",
       "      <td>Docs-&gt;Sym</td>\n",
       "    </tr>\n",
       "    <tr>\n",
       "      <th>0</th>\n",
       "      <td>GradeDown(Monadic)&lt;br/&gt;&lt;br/&gt;What does this gly...</td>\n",
       "      <td>⍒ &lt;br/&gt;&lt;br/&gt;&lt;a href='https://help.dyalog.com/1...</td>\n",
       "      <td>Name-&gt;Sym</td>\n",
       "    </tr>\n",
       "    <tr>\n",
       "      <th>1</th>\n",
       "      <td>&amp; is a monadic operator with an ambivalent der...</td>\n",
       "      <td>Spawn &lt;br/&gt;&lt;br/&gt;&lt;a href='https://help.dyalog.c...</td>\n",
       "      <td>Docs-&gt;Name</td>\n",
       "    </tr>\n",
       "    <tr>\n",
       "      <th>0</th>\n",
       "      <td>Y may be any array.  X is a simple integer sca...</td>\n",
       "      <td>⍀ &lt;br/&gt;&lt;br/&gt;&lt;a href='https://help.dyalog.com/1...</td>\n",
       "      <td>Docs-&gt;Sym</td>\n",
       "    </tr>\n",
       "    <tr>\n",
       "      <th>0</th>\n",
       "      <td>Y must be a simple character scalar or vector ...</td>\n",
       "      <td>⍎ &lt;br/&gt;&lt;br/&gt;&lt;a href='https://help.dyalog.com/1...</td>\n",
       "      <td>Docs-&gt;Sym</td>\n",
       "    </tr>\n",
       "    <tr>\n",
       "      <th>0</th>\n",
       "      <td>Membership&lt;br/&gt;&lt;br/&gt;What does this glyph do?</td>\n",
       "      <td>Y may be any array.  X may be any array.  R is...</td>\n",
       "      <td>Name-&gt;Docs</td>\n",
       "    </tr>\n",
       "    <tr>\n",
       "      <th>0</th>\n",
       "      <td>○&lt;br/&gt;&lt;br/&gt;What is this glyph called?  What's ...</td>\n",
       "      <td>Circle &lt;br/&gt; Monadic: Pi Times &lt;br/&gt; Dyadic: C...</td>\n",
       "      <td>Sym-&gt;Name</td>\n",
       "    </tr>\n",
       "    <tr>\n",
       "      <th>1</th>\n",
       "      <td>Y must be a simple character array of rank gre...</td>\n",
       "      <td>GradeUp(Dyadic) &lt;br/&gt;&lt;br/&gt;&lt;a href='https://hel...</td>\n",
       "      <td>Docs-&gt;Name</td>\n",
       "    </tr>\n",
       "    <tr>\n",
       "      <th>0</th>\n",
       "      <td>f may be any dyadic function.  X and Y may be ...</td>\n",
       "      <td>⍨ &lt;br/&gt;&lt;br/&gt;&lt;a href='https://help.dyalog.com/1...</td>\n",
       "      <td>Docs-&gt;Sym</td>\n",
       "    </tr>\n",
       "    <tr>\n",
       "      <th>1</th>\n",
       "      <td>Y may be any array. &lt;br/&gt;  X is a scalar or ve...</td>\n",
       "      <td>Pick &lt;br/&gt;&lt;br/&gt;&lt;a href='https://help.dyalog.co...</td>\n",
       "      <td>Docs-&gt;Name</td>\n",
       "    </tr>\n",
       "    <tr>\n",
       "      <th>0</th>\n",
       "      <td>Y may be any array.  R is a scalar array whose...</td>\n",
       "      <td>⊂ &lt;br/&gt;&lt;br/&gt;&lt;a href='https://help.dyalog.com/1...</td>\n",
       "      <td>Docs-&gt;Sym</td>\n",
       "    </tr>\n",
       "    <tr>\n",
       "      <th>0</th>\n",
       "      <td>MatrixInverse&lt;br/&gt;&lt;br/&gt;What does this glyph lo...</td>\n",
       "      <td>⌹ &lt;br/&gt;&lt;br/&gt;&lt;a href='https://help.dyalog.com/1...</td>\n",
       "      <td>Name-&gt;Sym</td>\n",
       "    </tr>\n",
       "    <tr>\n",
       "      <th>0</th>\n",
       "      <td>Y may be any array.  X must be a simple intege...</td>\n",
       "      <td>⊂ &lt;br/&gt;&lt;br/&gt;&lt;a href='https://help.dyalog.com/1...</td>\n",
       "      <td>Docs-&gt;Sym</td>\n",
       "    </tr>\n",
       "    <tr>\n",
       "      <th>0</th>\n",
       "      <td>⊃&lt;br/&gt;&lt;br/&gt;What does this glyph do?</td>\n",
       "      <td>Y may be any array. &lt;br/&gt;  X is a scalar or ve...</td>\n",
       "      <td>Sym-&gt;Docs</td>\n",
       "    </tr>\n",
       "  </tbody>\n",
       "</table>\n",
       "</div>"
      ],
      "text/plain": [
       "                                                   0  \\\n",
       "0                ,<br/><br/>What does this glyph do?   \n",
       "0  Y may be any array.  X is a simple integer vec...   \n",
       "0  GradeDown(Monadic)<br/><br/>What does this gly...   \n",
       "1  & is a monadic operator with an ambivalent der...   \n",
       "0  Y may be any array.  X is a simple integer sca...   \n",
       "0  Y must be a simple character scalar or vector ...   \n",
       "0       Membership<br/><br/>What does this glyph do?   \n",
       "0  ○<br/><br/>What is this glyph called?  What's ...   \n",
       "1  Y must be a simple character array of rank gre...   \n",
       "0  f may be any dyadic function.  X and Y may be ...   \n",
       "1  Y may be any array. <br/>  X is a scalar or ve...   \n",
       "0  Y may be any array.  R is a scalar array whose...   \n",
       "0  MatrixInverse<br/><br/>What does this glyph lo...   \n",
       "0  Y may be any array.  X must be a simple intege...   \n",
       "0                ⊃<br/><br/>What does this glyph do?   \n",
       "\n",
       "                                                   1           2  \n",
       "0  Y may be any array.  X may be any array.  The ...   Sym->Docs  \n",
       "0  / <br/><br/><a href='https://help.dyalog.com/1...   Docs->Sym  \n",
       "0  ⍒ <br/><br/><a href='https://help.dyalog.com/1...   Name->Sym  \n",
       "1  Spawn <br/><br/><a href='https://help.dyalog.c...  Docs->Name  \n",
       "0  ⍀ <br/><br/><a href='https://help.dyalog.com/1...   Docs->Sym  \n",
       "0  ⍎ <br/><br/><a href='https://help.dyalog.com/1...   Docs->Sym  \n",
       "0  Y may be any array.  X may be any array.  R is...  Name->Docs  \n",
       "0  Circle <br/> Monadic: Pi Times <br/> Dyadic: C...   Sym->Name  \n",
       "1  GradeUp(Dyadic) <br/><br/><a href='https://hel...  Docs->Name  \n",
       "0  ⍨ <br/><br/><a href='https://help.dyalog.com/1...   Docs->Sym  \n",
       "1  Pick <br/><br/><a href='https://help.dyalog.co...  Docs->Name  \n",
       "0  ⊂ <br/><br/><a href='https://help.dyalog.com/1...   Docs->Sym  \n",
       "0  ⌹ <br/><br/><a href='https://help.dyalog.com/1...   Name->Sym  \n",
       "0  ⊂ <br/><br/><a href='https://help.dyalog.com/1...   Docs->Sym  \n",
       "0  Y may be any array. <br/>  X is a scalar or ve...   Sym->Docs  "
      ]
     },
     "execution_count": 6,
     "metadata": {},
     "output_type": "execute_result"
    }
   ],
   "source": [
    "df = pd.concat(cards)\n",
    "# df.to_csv('DyalogDocs_AllCards.csv',index=False,header=False)\n",
    "df.sample(15)"
   ]
  },
  {
   "cell_type": "markdown",
   "id": "9e8fea78",
   "metadata": {},
   "source": [
    "### Stuff that doesn't work quite right\n",
    "+ A few documentation pages have code cells mixed into the text.  Currently it only pulls \\<p> text cells so the code is lost.  That could be fixed, but it's infrequent and not a huge deal since there's hyperlinks.\n",
    "+ Fix the try/except stuff"
   ]
  },
  {
   "cell_type": "markdown",
   "id": "a2d14dfc",
   "metadata": {},
   "source": [
    "# General Cards from study group NB"
   ]
  },
  {
   "cell_type": "code",
   "execution_count": 110,
   "id": "467fcb76",
   "metadata": {},
   "outputs": [],
   "source": [
    "url = 'https://raw.githubusercontent.com/fastai/apl-study/master/APL.ipynb'\n",
    "nb = json.loads(urlopen(url).read())"
   ]
  },
  {
   "cell_type": "code",
   "execution_count": 111,
   "id": "f983228b",
   "metadata": {},
   "outputs": [],
   "source": [
    "# Define newlines on cards\n",
    "def collapse_list(l): return '<br/>'.join(l) + '<br/>'\n",
    "\n",
    "def get_hyperlink(url,url_type):\n",
    "    return f\" <br/><br/><a href='{url}'>Take me to {url_type}</a>\""
   ]
  },
  {
   "cell_type": "code",
   "execution_count": 112,
   "id": "c1db45da",
   "metadata": {},
   "outputs": [],
   "source": [
    "def cell_filter(cell):\n",
    "    cond1 = cell['cell_type'] == 'code'\n",
    "    cond2 = ('outputs' in cell.keys()) and (cell['outputs'] != [])\n",
    "    cond3 = cell['source'] != []\n",
    "    return cond1 and cond2 and cond3"
   ]
  },
  {
   "cell_type": "code",
   "execution_count": 113,
   "id": "b74f0737",
   "metadata": {},
   "outputs": [],
   "source": [
    "filtered_codes = L(nb['cells']).filter(cell_filter)"
   ]
  },
  {
   "cell_type": "code",
   "execution_count": 114,
   "id": "03c2b81d",
   "metadata": {},
   "outputs": [],
   "source": [
    "base = 'https://help.dyalog.com/18.2/Content/Language'\n",
    "\n",
    "code_cards = []\n",
    "for i,cell in enumerate(filtered_codes):\n",
    "    _src = cell['source']\n",
    "        \n",
    "    _split = [[char for char in line] for line in _src]\n",
    "    \n",
    "    _split = [o for sublist in _split for o in sublist]\n",
    "    _symbol_locs = {o:symbols_dict[o] for o in _split if o in filter_dict(symbols_dict,lambda k,v: k!='.').keys()}\n",
    "    _symbol_locs\n",
    "\n",
    "    urls = []\n",
    "    \n",
    "    src = collapse_list(_src)\n",
    "    out = ''.join(cell['outputs'][0]['data']['text/html'])\n",
    "    out = out + ''.join([get_hyperlink(base+u[2:],s) for s,u in _symbol_locs.items()])\n",
    "    code_cards.append(pd.DataFrame([[src + f\" <br/><br/>What does the code output?\",out,\"Code->Output\"]]))"
   ]
  },
  {
   "cell_type": "code",
   "execution_count": 115,
   "id": "89abf025",
   "metadata": {},
   "outputs": [],
   "source": [
    "df = pd.concat(code_cards)"
   ]
  },
  {
   "cell_type": "code",
   "execution_count": 118,
   "id": "e13ea26a",
   "metadata": {},
   "outputs": [],
   "source": [
    "df.to_csv('AplStudyGroup_CodeCards_All.csv',index=False,header=False)\n",
    "df.to_csv('AplStudyGroup_CodeCards_Session_.csv',index=False,header=False)"
   ]
  },
  {
   "cell_type": "markdown",
   "id": "572a076a",
   "metadata": {},
   "source": [
    "# APL Cart"
   ]
  },
  {
   "cell_type": "code",
   "execution_count": 93,
   "id": "6b9d7652",
   "metadata": {},
   "outputs": [],
   "source": [
    "url = 'https://raw.githubusercontent.com/abrudz/aplcart/master/table.tsv'\n",
    "df = pd.read_csv(url, sep='\\t')"
   ]
  },
  {
   "cell_type": "code",
   "execution_count": 94,
   "id": "c08f2b15",
   "metadata": {},
   "outputs": [],
   "source": [
    "front = df['SYNTAX']\n",
    "back = df['DESCRIPTION'].astype(str) + ' <br/>'*2 + \"<a href='\" + df['DOCS'].astype(str) + \"'>Link to docs<a/>\"\n",
    "tags = df.CLASS.astype(str) + ',' + df.TYPE.astype(str) + ',' + df.GROUP.astype(str) + ',' + df.CATEGORY.astype(str) + ','\n",
    "g1 = pd.DataFrame({'front':front,'back':back,'tags':tags})"
   ]
  },
  {
   "cell_type": "code",
   "execution_count": 95,
   "id": "3449f48a",
   "metadata": {},
   "outputs": [],
   "source": [
    "front = df['DESCRIPTION']\n",
    "back = df['SYNTAX'].astype(str) + ' <br/>'*2 + \"<a href='\" + df['DOCS'].astype(str) + \"'>Link to docs<a/>\"\n",
    "tags = df.CLASS.astype(str) + ',' + df.TYPE.astype(str) + ',' + df.GROUP.astype(str) + ',' + df.CATEGORY.astype(str) + ','\n",
    "g2 = pd.DataFrame({'front':front,'back':back,'tags':tags})"
   ]
  },
  {
   "cell_type": "code",
   "execution_count": 96,
   "id": "300291a8",
   "metadata": {},
   "outputs": [],
   "source": [
    "cards = pd.concat([g1,g2])\n",
    "cards.to_csv('AplCart_AllCards.csv',index=False,header=False)"
   ]
  },
  {
   "cell_type": "code",
   "execution_count": null,
   "id": "83a577db",
   "metadata": {},
   "outputs": [],
   "source": []
  }
 ],
 "metadata": {
  "kernelspec": {
   "display_name": "Python 3 (ipykernel)",
   "language": "python",
   "name": "python3"
  },
  "language_info": {
   "codemirror_mode": {
    "name": "ipython",
    "version": 3
   },
   "file_extension": ".py",
   "mimetype": "text/x-python",
   "name": "python",
   "nbconvert_exporter": "python",
   "pygments_lexer": "ipython3",
   "version": "3.9.7"
  },
  "toc": {
   "base_numbering": 1,
   "nav_menu": {},
   "number_sections": true,
   "sideBar": true,
   "skip_h1_title": false,
   "title_cell": "Table of Contents",
   "title_sidebar": "Contents",
   "toc_cell": false,
   "toc_position": {},
   "toc_section_display": true,
   "toc_window_display": false
  }
 },
 "nbformat": 4,
 "nbformat_minor": 5
}
