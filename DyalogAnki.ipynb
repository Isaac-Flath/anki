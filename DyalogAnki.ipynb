{
 "cells": [
  {
   "cell_type": "code",
   "execution_count": 1,
   "id": "c8bf138d",
   "metadata": {},
   "outputs": [],
   "source": [
    "import requests\n",
    "from bs4 import BeautifulSoup\n",
    "from IPython.core.display import HTML\n",
    "from fastcore.all import *\n",
    "import pandas as pd\n",
    "import json\n",
    "\n",
    "import json\n",
    "from urllib.request import urlopen"
   ]
  },
  {
   "cell_type": "code",
   "execution_count": 2,
   "id": "3ff62868",
   "metadata": {},
   "outputs": [],
   "source": [
    "main_url = 'https://help.dyalog.com/18.2/Content/Language/Introduction/Language%20Elements.htm?tocpath=Language%20Reference%20Guide%7CSymbols%7C_____1'\n",
    "content = requests.get(main_url)\n",
    "content.encoding = content.apparent_encoding\n",
    "\n",
    "main=BeautifulSoup(content.text)\n",
    "\n",
    "symbol_tags = main.find_all('a',attrs={'href':lambda x: x.startswith('../Symbols/')})\n",
    "symbols_dict = {o.text:o['href'] for o in symbol_tags}"
   ]
  },
  {
   "cell_type": "markdown",
   "id": "460874eb",
   "metadata": {},
   "source": [
    "# General Cards from Dyalog Docs"
   ]
  },
  {
   "cell_type": "code",
   "execution_count": 3,
   "id": "be8c5e2a",
   "metadata": {},
   "outputs": [],
   "source": [
    "base = 'https://help.dyalog.com/18.2/Content/Language'"
   ]
  },
  {
   "cell_type": "code",
   "execution_count": 4,
   "id": "44d9f3e1",
   "metadata": {},
   "outputs": [],
   "source": [
    "def get_hyperlink(url,url_type):\n",
    "    return f\" <br/><br/><a href='{url}'>Take me to {url_type}</a>\""
   ]
  },
  {
   "cell_type": "code",
   "execution_count": null,
   "id": "786cb0b6",
   "metadata": {
    "scrolled": true
   },
   "outputs": [],
   "source": [
    "cards = []\n",
    "for i,sym in enumerate(L(*symbols_dict.keys())):\n",
    "    doc_url = symbols_dict[sym]\n",
    "    url1 = base + doc_url[2:]\n",
    "\n",
    "    content = requests.get(url1)\n",
    "    content.encoding = content.apparent_encoding\n",
    "    doc_html = BeautifulSoup(content.text)\n",
    "\n",
    "    doc_h5s = doc_html.find_all('h5')\n",
    "    doc_h3 = doc_html.find('td').find('a',attrs={'name':lambda o: not o.startswith('kanchor')})\n",
    "    \n",
    "    \n",
    "    if doc_html.find('td').text.strip() == '':\n",
    "        _2 = doc_h3['name']\n",
    "    else: _2 = doc_html.find('td').text.strip()\n",
    "    \n",
    "    # Name of glyph -> Symbol\n",
    "    cards.append(pd.DataFrame([[_2 + \"<br/><br/>What does this glyph look like?\",\n",
    "                                sym + get_hyperlink(url1,\"symbol documentation\"),\n",
    "                               \"Name->Sym\"\n",
    "                               ]]))\n",
    "    urls = []\n",
    "    for doc_h5 in doc_h5s:\n",
    "        \n",
    "        p = doc_h5.find_next_sibling('p')\n",
    "        dy_or_mon_name = ''.join(re.findall('Dyadic|Monadic',doc_h5.text)) + ': ' + p.text.strip()\n",
    "        \n",
    "        # Mondadic/Dyadic Name -> Symbol\n",
    "        cards.append(pd.DataFrame([[dy_or_mon_name + \"<br/><br/>What does this glyph look like?\",\n",
    "                                    sym + get_hyperlink(url1,\"symbol documentation\"),\n",
    "                                   \"Name->Sym\"\n",
    "                                   ]]))\n",
    "        _2  = _2 + ' <br/> ' + dy_or_mon_name \n",
    "        \n",
    "        \n",
    "        url_end = [o.find('a',attrs={'href':True}) for o in doc_h5.find_next_siblings('p') if o.find('a',attrs={'href':True}) is not None][0]['href']\n",
    "#         url2 = base + p.find('a',attrs={'href':True})['href'][2:]\n",
    "        url2 = base + url_end[2:]\n",
    "        urls.append(url2)\n",
    "        \n",
    "        content = requests.get(url2)\n",
    "        content.encoding = content.apparent_encoding\n",
    "        doc_html = BeautifulSoup(content.text)\n",
    "    \n",
    "        try:\n",
    "            desc = [o.text for o in doc_html.find('td').find_all_next('p') if o.text.strip() != '']\n",
    "\n",
    "            documentation = ' <br/> '.join(desc)\n",
    "            \n",
    "            # Functional documentation -> Symbol\n",
    "            cards.append(pd.DataFrame([[documentation + \"<br/><br/>What does this glyph look like?\",\n",
    "                                        sym + get_hyperlink(url1,\"symbol documentation\") + get_hyperlink(url2,\"primitive function documentation\"),\n",
    "                                       \"Docs->Sym\"\n",
    "                                       ]]))\n",
    "        except:\n",
    "            print(i)\n",
    "        try:\n",
    "            doc_name = doc_html.find('td').find('a',attrs={'name':lambda o: not o.startswith('kanchor')})\n",
    "            if doc_name['name'] not in _2:\n",
    "                # Documentation Name -> Symbol\n",
    "                cards.append(pd.DataFrame([[doc_name['name'] + \"<br/><br/>What does this glyph look like?\",\n",
    "                                            sym + get_hyperlink(url1,\"symbol documentation\") + get_hyperlink(url2,\"primitive function documentation\"),\n",
    "                                           \"Name->Sym\"\n",
    "                                           ]]))\n",
    "\n",
    "            # Documentation Name -> Functional Documentation\n",
    "            # Functional Documentation -> Documentation Name\n",
    "            cards.append(pd.DataFrame([\n",
    "                    [doc_name['name'] + \"<br/><br/>What does this glyph do?\",\n",
    "                     documentation + get_hyperlink(url1,\"symbol documentation\") + get_hyperlink(url2,\"primitive function documentation\"),\n",
    "                     \"Name->Docs\"\n",
    "                    ],\n",
    "                    [documentation + \"<br/><br/>What is the name of this glyph?\",\n",
    "                     doc_name['name'] + get_hyperlink(url1,\"symbol documentation\") + get_hyperlink(url2,\"primitive function documentation\"),\n",
    "                    \"Docs->Name\"\n",
    "                    ],\n",
    "                               \n",
    "                    ]))\n",
    "        except:\n",
    "            print(i)\n",
    "    \n",
    "    # Symbol -> Functional Documentation\n",
    "    cards.append(pd.DataFrame([[sym + \"<br/><br/>What does this glyph do?\",\n",
    "                                        documentation + ''.join([get_hyperlink(o,\"Link\") for o in urls]),\n",
    "                                       \"Sym->Docs\"\n",
    "                                       ]]))\n",
    "    # Symbol -> Names\n",
    "    cards.append(pd.DataFrame([[sym + \"<br/><br/>What is this glyph called?  What's the Monadic/Dyadic names?\",\n",
    "                                _2 + get_hyperlink(url1,\"symbol documentation\"),\n",
    "                               \"Sym->Docs\"]]))"
   ]
  },
  {
   "cell_type": "code",
   "execution_count": null,
   "id": "210c64c5",
   "metadata": {},
   "outputs": [],
   "source": [
    "df = pd.concat(cards)\n",
    "df.to_csv('DyalogDocs_AllCards.csv',index=False,header=False)\n",
    "df.sample(15)"
   ]
  },
  {
   "cell_type": "markdown",
   "id": "e44d6d76",
   "metadata": {},
   "source": [
    "### Stuff that doesn't work quite right\n",
    "+ A few documentation pages have code cells mixed into the text.  Currently it only pulls \\<p> text cells so the code is lost.  That could be fixed, but it's infrequent and not a huge deal since there's hyperlinks.\n",
    "+ Fix the try/except stuff"
   ]
  },
  {
   "cell_type": "markdown",
   "id": "89aaa9e8",
   "metadata": {},
   "source": [
    "# General Cards from study group NB"
   ]
  },
  {
   "cell_type": "code",
   "execution_count": null,
   "id": "b0bd1be3",
   "metadata": {},
   "outputs": [],
   "source": [
    "url = 'https://raw.githubusercontent.com/Isaac-Flath/apl-study/fastai-master/APL.ipynb'\n",
    "nb = json.loads(urlopen(url).read())"
   ]
  },
  {
   "cell_type": "code",
   "execution_count": null,
   "id": "79933c3d",
   "metadata": {},
   "outputs": [],
   "source": [
    "# Define newlines on cards\n",
    "def collapse_list(l): return '<br/>'.join(l) + '<br/>'\n",
    "\n",
    "def get_hyperlink(url,url_type):\n",
    "    return f\" <br/><br/><a href='{url}'>Take me to {url_type}</a>\""
   ]
  },
  {
   "cell_type": "code",
   "execution_count": null,
   "id": "8eb3ff8b",
   "metadata": {},
   "outputs": [],
   "source": [
    "def cell_filter(cell):\n",
    "    cond1 = cell['cell_type'] == 'code'\n",
    "    cond2 = ('outputs' in cell.keys()) and (cell['outputs'] != [])\n",
    "    cond3 = cell['source'] != []\n",
    "    return cond1 and cond2 and cond3"
   ]
  },
  {
   "cell_type": "code",
   "execution_count": null,
   "id": "001323a4",
   "metadata": {},
   "outputs": [],
   "source": [
    "filtered_codes = L(nb['cells']).filter(cell_filter)"
   ]
  },
  {
   "cell_type": "code",
   "execution_count": null,
   "id": "55a9c8fd",
   "metadata": {},
   "outputs": [],
   "source": [
    "base = 'https://help.dyalog.com/18.2/Content/Language'\n",
    "\n",
    "code_cards = []\n",
    "for i,cell in enumerate(filtered_codes):\n",
    "    _src = cell['source']\n",
    "    \n",
    "    _split = [o.split() for o in _src]\n",
    "    _split = [o for sublist in _split for o in sublist]\n",
    "    _symbol_locs = {o:symbols_dict[o] for o in _split if o in symbols_dict.keys()}\n",
    "    _symbol_locs\n",
    "\n",
    "    urls = []\n",
    "#     for s,u in _symbol_locs.items():\n",
    "#         print(s,base + u[2:])\n",
    "    \n",
    "    src = collapse_list(_src)\n",
    "    out = ''.join(cell['outputs'][0]['data']['text/html'])\n",
    "    out = out + ''.join([get_hyperlink(s,base+u[2:]) for s,u in _symbol_locs.items()])\n",
    "    code_cards.append(pd.DataFrame([[src,out,\"What does the code output?\"]]))\n"
   ]
  },
  {
   "cell_type": "code",
   "execution_count": null,
   "id": "75f0ba68",
   "metadata": {},
   "outputs": [],
   "source": [
    "df = pd.concat(code_cards)\n",
    "df.to_csv('AplStudyGroup_CodeCards.csv',index=False,header=False)\n",
    "df.sample(15)"
   ]
  }
 ],
 "metadata": {
  "kernelspec": {
   "display_name": "Python 3 (ipykernel)",
   "language": "python",
   "name": "python3"
  },
  "language_info": {
   "codemirror_mode": {
    "name": "ipython",
    "version": 3
   },
   "file_extension": ".py",
   "mimetype": "text/x-python",
   "name": "python",
   "nbconvert_exporter": "python",
   "pygments_lexer": "ipython3",
   "version": "3.9.7"
  },
  "toc": {
   "base_numbering": 1,
   "nav_menu": {},
   "number_sections": true,
   "sideBar": true,
   "skip_h1_title": false,
   "title_cell": "Table of Contents",
   "title_sidebar": "Contents",
   "toc_cell": false,
   "toc_position": {},
   "toc_section_display": true,
   "toc_window_display": false
  }
 },
 "nbformat": 4,
 "nbformat_minor": 5
}
