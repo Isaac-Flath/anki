{
 "cells": [
  {
   "cell_type": "markdown",
   "id": "e2838c8f",
   "metadata": {},
   "source": [
    "# Setup"
   ]
  },
  {
   "cell_type": "code",
   "execution_count": 1,
   "id": "1219a031",
   "metadata": {
    "ExecuteTime": {
     "end_time": "2022-07-12T18:38:55.526633Z",
     "start_time": "2022-07-12T18:38:54.686801Z"
    }
   },
   "outputs": [],
   "source": [
    "import pandas as pd\n",
    "import inspect\n",
    "\n",
    "def retrieve_name(var):\n",
    "    callers_local_vars = inspect.currentframe().f_back.f_locals.items()\n",
    "    return [var_name for var_name, var_val in callers_local_vars if var_val is var]\n",
    "\n",
    "def add_name(o,name):\n",
    "    return f\"{name.replace('_',' ')}<br/><br/>{o}\""
   ]
  },
  {
   "cell_type": "markdown",
   "id": "14f92acc",
   "metadata": {},
   "source": [
    "# Dyalog"
   ]
  },
  {
   "cell_type": "code",
   "execution_count": 25,
   "id": "b7ac1684",
   "metadata": {
    "ExecuteTime": {
     "end_time": "2022-07-12T21:57:30.616071Z",
     "start_time": "2022-07-12T21:57:30.603523Z"
    }
   },
   "outputs": [],
   "source": [
    "tick = \"`⋄1¨2¯3<4≤5=6≥7>8≠9∨0∧-×=÷q?w⍵e∊r⍴t~y↑u↓i⍳o○p*[←]→\\⊢a⍺s⌈d⌊f_g∇h∆j∘k'l⎕;⍎'⍕z⊂x⊃c∩v∪b⊥n⊤m|,⍝.⍀/⌿\"\n",
    "shifttick='''~⌺!⌶@⍫#⍒$⍋%⌽^⍉&⊖*⍟(⍱)⍲_!+⌹Q W E⍷R T⍨Y U I⍸O⍥P⍣{⍞}⍬|⊣A S D F G H J⍤K⌸L⌷:≡\"≢Z⊆X C V B N M <⍪>⍙?⍠'''\n",
    "assert (len(tick)%2 == 0) and (len(tick)==len(shifttick))\n",
    "\n",
    "_sym = shifttick + tick \n",
    "\n",
    "full_dict ={f\"`{_sym[i*2]}\":_sym[i*2+1] for i in range(int(len(_sym)/2)) if _sym[i*2+1] != ' '}"
   ]
  },
  {
   "cell_type": "code",
   "execution_count": null,
   "id": "d0664b33",
   "metadata": {
    "ExecuteTime": {
     "end_time": "2022-07-12T21:57:03.416655Z",
     "start_time": "2022-07-12T21:57:03.399855Z"
    }
   },
   "outputs": [],
   "source": []
  },
  {
   "cell_type": "code",
   "execution_count": 26,
   "id": "f5da0148",
   "metadata": {
    "ExecuteTime": {
     "end_time": "2022-07-12T21:57:32.322495Z",
     "start_time": "2022-07-12T21:57:32.305084Z"
    }
   },
   "outputs": [],
   "source": [
    "df = pd.DataFrame({'front':full_dict.values(),'back':full_dict.keys()})\n",
    "df.to_csv(\"decks/Hotkeys_APLSymbols.csv\",index=False,header=False)"
   ]
  },
  {
   "cell_type": "markdown",
   "id": "57c497cc",
   "metadata": {},
   "source": [
    "# Jupyter"
   ]
  },
  {
   "cell_type": "code",
   "execution_count": 4,
   "id": "2ef8606a",
   "metadata": {
    "ExecuteTime": {
     "end_time": "2022-07-12T18:38:55.708802Z",
     "start_time": "2022-07-12T18:38:55.538888Z"
    }
   },
   "outputs": [],
   "source": [
    "df = pd.read_excel('HotKeys.xlsx',sheet_name='Jupyter')[['Front','Back','Tag']]\n",
    "df.to_csv('decks/Hotkeys_Jupyter.csv',index=False, header=False)"
   ]
  },
  {
   "cell_type": "markdown",
   "id": "6e2753fa",
   "metadata": {},
   "source": [
    "# Vim"
   ]
  },
  {
   "cell_type": "code",
   "execution_count": 5,
   "id": "9bf30fe8",
   "metadata": {
    "ExecuteTime": {
     "end_time": "2022-07-12T18:38:55.877220Z",
     "start_time": "2022-07-12T18:38:55.785549Z"
    }
   },
   "outputs": [],
   "source": [
    "df = pd.read_excel('HotKeys.xlsx',sheet_name='Vim')[['Front','Back','Tag']]\n",
    "df.to_csv('decks/Hotkeys_Vim.csv',index=False, header=False)"
   ]
  },
  {
   "cell_type": "markdown",
   "id": "83b0a93b",
   "metadata": {},
   "source": [
    "# VSCode (Mac)"
   ]
  },
  {
   "cell_type": "code",
   "execution_count": 6,
   "id": "f80fa4a0",
   "metadata": {
    "ExecuteTime": {
     "end_time": "2022-07-12T18:38:55.877220Z",
     "start_time": "2022-07-12T18:38:55.785549Z"
    }
   },
   "outputs": [],
   "source": [
    "df = pd.read_excel('HotKeys.xlsx',sheet_name='VSCodeMac')[['Front','Back','Tag']]\n",
    "df.to_csv('decks/Hotkeys_VSCodeMac.csv',index=False, header=False)"
   ]
  },
  {
   "cell_type": "markdown",
   "id": "0aafffb1",
   "metadata": {},
   "source": [
    "# FireFox"
   ]
  },
  {
   "cell_type": "code",
   "execution_count": 7,
   "id": "3bca22ca",
   "metadata": {
    "ExecuteTime": {
     "end_time": "2022-07-12T18:38:55.951122Z",
     "start_time": "2022-07-12T18:38:55.878162Z"
    }
   },
   "outputs": [],
   "source": [
    "df = pd.read_excel('HotKeys.xlsx',sheet_name='FireFox')[['Front','Back','Tag']]\n",
    "df.to_csv('decks/Hotkeys_FireFox.csv',index=False, header=False)"
   ]
  },
  {
   "cell_type": "code",
   "execution_count": null,
   "id": "99f999ce",
   "metadata": {},
   "outputs": [],
   "source": []
  }
 ],
 "metadata": {
  "kernelspec": {
   "display_name": "Python 3 (ipykernel)",
   "language": "python",
   "name": "python3"
  },
  "language_info": {
   "codemirror_mode": {
    "name": "ipython",
    "version": 3
   },
   "file_extension": ".py",
   "mimetype": "text/x-python",
   "name": "python",
   "nbconvert_exporter": "python",
   "pygments_lexer": "ipython3",
   "version": "3.9.7"
  },
  "toc": {
   "base_numbering": 1,
   "nav_menu": {},
   "number_sections": true,
   "sideBar": true,
   "skip_h1_title": false,
   "title_cell": "Table of Contents",
   "title_sidebar": "Contents",
   "toc_cell": false,
   "toc_position": {},
   "toc_section_display": true,
   "toc_window_display": false
  }
 },
 "nbformat": 4,
 "nbformat_minor": 5
}
