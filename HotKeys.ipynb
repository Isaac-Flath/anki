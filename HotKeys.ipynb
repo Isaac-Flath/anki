{
 "cells": [
  {
   "cell_type": "markdown",
   "id": "e2838c8f",
   "metadata": {},
   "source": [
    "# Setup"
   ]
  },
  {
   "cell_type": "code",
   "execution_count": 1,
   "id": "1219a031",
   "metadata": {
    "ExecuteTime": {
     "end_time": "2022-07-12T18:38:55.526633Z",
     "start_time": "2022-07-12T18:38:54.686801Z"
    }
   },
   "outputs": [],
   "source": [
    "import pandas as pd\n",
    "import inspect\n",
    "\n",
    "def retrieve_name(var):\n",
    "    callers_local_vars = inspect.currentframe().f_back.f_locals.items()\n",
    "    return [var_name for var_name, var_val in callers_local_vars if var_val is var]\n",
    "\n",
    "def add_name(o,name):\n",
    "    return f\"{name.replace('_',' ')}<br/><br/>{o}\""
   ]
  },
  {
   "cell_type": "markdown",
   "id": "14f92acc",
   "metadata": {},
   "source": [
    "# Dyalog"
   ]
  },
  {
   "cell_type": "code",
   "execution_count": 2,
   "id": "4508e383",
   "metadata": {
    "ExecuteTime": {
     "end_time": "2022-07-12T18:38:55.531424Z",
     "start_time": "2022-07-12T18:38:55.528231Z"
    }
   },
   "outputs": [],
   "source": [
    "tick = \"`⋄1¨2¯3<4≤5=6≥7>8≠9∨0∧-×=÷q?w⍵e∊r⍴t~y↑u↓i⍳o○p*[←]→\\⊢a⍺s⌈d⌊f_g∇h∆j∘k'l⎕;⍎'⍕z⊂x⊃c∩v∪b⊥n⊤m|,⍝.⍀/⌿\"\n",
    "shifttick = \"`⌺1⌶2⍫3⍒4⍋5⌽6⍉7⊖8⍟9⍱0⍲-!=⌹Q W E⍷R T⍨Y U I⍸O⍥P⍣[⍞]⍬\\⊣A S D F G H J⍤K⌸L⌷;⍎'⍕Z⊆X C V B N M ,⍪.⍙/⍠\"\n",
    "\n",
    "assert (len(tick)%2 == 0) and (len(tick)==len(shifttick))\n",
    "r = range(int(len(tick)/2))\n",
    "t_dict ={f\"`{tick[i*2]}\":tick[i*2+1] for i in r if tick[i*2+1] != ' '}\n",
    "st_dict = {f\"`⇧{shifttick[i*2]}\":shifttick[i*2+1] for i in r if shifttick[i*2+1] != ' '}\n",
    "full_dict = t_dict|st_dict"
   ]
  },
  {
   "cell_type": "code",
   "execution_count": 3,
   "id": "df56dd88",
   "metadata": {
    "ExecuteTime": {
     "end_time": "2022-07-12T18:38:55.537133Z",
     "start_time": "2022-07-12T18:38:55.532396Z"
    }
   },
   "outputs": [],
   "source": [
    "df = pd.DataFrame({'front':full_dict.values(),'back':full_dict.keys()})\n",
    "df.to_csv(\"decks/Hotkeys_APLSymbols.csv\",index=False,header=False)"
   ]
  },
  {
   "cell_type": "markdown",
   "id": "de95484c",
   "metadata": {},
   "source": [
    "# Jupyter"
   ]
  },
  {
   "cell_type": "code",
   "execution_count": 4,
   "id": "e85d1656",
   "metadata": {
    "ExecuteTime": {
     "end_time": "2022-07-12T18:38:55.708802Z",
     "start_time": "2022-07-12T18:38:55.538888Z"
    }
   },
   "outputs": [],
   "source": [
    "df = pd.read_excel('HotKeys.xlsx',sheet_name='Jupyter')[['Front','Back','Tag']]\n",
    "df.to_csv('decks/Hotkeys_Jupyter.csv',index=False, header=False)"
   ]
  },
  {
   "cell_type": "markdown",
   "id": "432a4b4e",
   "metadata": {},
   "source": [
    "# Vim"
   ]
  },
  {
   "cell_type": "code",
   "execution_count": 5,
   "id": "6bb3f762",
   "metadata": {
    "ExecuteTime": {
     "end_time": "2022-07-12T18:38:55.877220Z",
     "start_time": "2022-07-12T18:38:55.785549Z"
    }
   },
   "outputs": [],
   "source": [
    "df = pd.read_excel('HotKeys.xlsx',sheet_name='Vim')[['Front','Back','Tag']]\n",
    "df.to_csv('decks/Hotkeys_Vim.csv',index=False, header=False)"
   ]
  },
  {
   "cell_type": "markdown",
   "id": "c78f29bf",
   "metadata": {},
   "source": [
    "# VSCode (Mac)"
   ]
  },
  {
   "cell_type": "code",
   "execution_count": 6,
   "id": "7b95342f",
   "metadata": {
    "ExecuteTime": {
     "end_time": "2022-07-12T18:38:55.877220Z",
     "start_time": "2022-07-12T18:38:55.785549Z"
    }
   },
   "outputs": [],
   "source": [
    "df = pd.read_excel('HotKeys.xlsx',sheet_name='VSCodeMac')[['Front','Back','Tag']]\n",
    "df.to_csv('decks/Hotkeys_VSCodeMac.csv',index=False, header=False)"
   ]
  },
  {
   "cell_type": "markdown",
   "id": "a2bb85a1",
   "metadata": {},
   "source": [
    "# FireFox"
   ]
  },
  {
   "cell_type": "code",
   "execution_count": 7,
   "id": "0aa594ab",
   "metadata": {
    "ExecuteTime": {
     "end_time": "2022-07-12T18:38:55.951122Z",
     "start_time": "2022-07-12T18:38:55.878162Z"
    }
   },
   "outputs": [],
   "source": [
    "df = pd.read_excel('HotKeys.xlsx',sheet_name='FireFox')[['Front','Back','Tag']]\n",
    "df.to_csv('decks/Hotkeys_FireFox.csv',index=False, header=False)"
   ]
  },
  {
   "cell_type": "code",
   "execution_count": null,
   "id": "31500cfc",
   "metadata": {},
   "outputs": [],
   "source": []
  }
 ],
 "metadata": {
  "kernelspec": {
   "display_name": "Python 3 (ipykernel)",
   "language": "python",
   "name": "python3"
  },
  "language_info": {
   "codemirror_mode": {
    "name": "ipython",
    "version": 3
   },
   "file_extension": ".py",
   "mimetype": "text/x-python",
   "name": "python",
   "nbconvert_exporter": "python",
   "pygments_lexer": "ipython3",
   "version": "3.9.7"
  },
  "toc": {
   "base_numbering": 1,
   "nav_menu": {},
   "number_sections": true,
   "sideBar": true,
   "skip_h1_title": false,
   "title_cell": "Table of Contents",
   "title_sidebar": "Contents",
   "toc_cell": false,
   "toc_position": {},
   "toc_section_display": true,
   "toc_window_display": false
  }
 },
 "nbformat": 4,
 "nbformat_minor": 5
}
