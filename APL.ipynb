{
 "cells": [
  {
   "cell_type": "code",
   "execution_count": 1,
   "id": "e14b831a",
   "metadata": {
    "ExecuteTime": {
     "end_time": "2022-07-12T23:57:38.643936Z",
     "start_time": "2022-07-12T23:57:36.786984Z"
    }
   },
   "outputs": [],
   "source": [
    "import requests\n",
    "from bs4 import BeautifulSoup\n",
    "from IPython.core.display import HTML\n",
    "from fastcore.all import *\n",
    "import pandas as pd\n",
    "import json\n",
    "from datetime import datetime\n",
    "import json\n",
    "from urllib.request import urlopen"
   ]
  },
  {
   "cell_type": "code",
   "execution_count": 2,
   "id": "3ff62868",
   "metadata": {
    "ExecuteTime": {
     "end_time": "2022-07-12T23:57:40.739649Z",
     "start_time": "2022-07-12T23:57:38.645298Z"
    }
   },
   "outputs": [],
   "source": [
    "main_url = 'https://help.dyalog.com/18.2/Content/Language/Introduction/Language%20Elements.htm?tocpath=Language%20Reference%20Guide%7CSymbols%7C_____1'\n",
    "content = requests.get(main_url)\n",
    "content.encoding = content.apparent_encoding\n",
    "\n",
    "main=BeautifulSoup(content.text)\n",
    "\n",
    "symbol_tags = main.find_all('a',attrs={'href':lambda x: x.startswith('../Symbols/')})\n",
    "symbols_dict = {o.text:o['href'] for o in symbol_tags}"
   ]
  },
  {
   "cell_type": "markdown",
   "id": "88fc872a",
   "metadata": {},
   "source": [
    "# General Cards from Dyalog Docs"
   ]
  },
  {
   "cell_type": "code",
   "execution_count": 3,
   "id": "6bc1db48",
   "metadata": {
    "ExecuteTime": {
     "end_time": "2022-07-12T23:57:40.743416Z",
     "start_time": "2022-07-12T23:57:40.741054Z"
    }
   },
   "outputs": [],
   "source": [
    "base = 'https://help.dyalog.com/18.2/Content/Language'"
   ]
  },
  {
   "cell_type": "code",
   "execution_count": 4,
   "id": "8a03ac67",
   "metadata": {
    "ExecuteTime": {
     "end_time": "2022-07-12T23:57:40.747906Z",
     "start_time": "2022-07-12T23:57:40.745645Z"
    }
   },
   "outputs": [],
   "source": [
    "def get_hyperlink(url,url_type):\n",
    "    return f\" <br/><br/><a href='{url}'>Take me to {url_type}</a>\""
   ]
  },
  {
   "cell_type": "raw",
   "id": "e8e9249b",
   "metadata": {},
   "source": []
  },
  {
   "cell_type": "raw",
   "id": "84665692",
   "metadata": {},
   "source": []
  },
  {
   "cell_type": "raw",
   "id": "35a435f0",
   "metadata": {},
   "source": []
  },
  {
   "cell_type": "code",
   "execution_count": 18,
   "id": "8f360038",
   "metadata": {
    "ExecuteTime": {
     "end_time": "2022-07-13T16:55:58.540614Z",
     "start_time": "2022-07-13T16:54:28.672204Z"
    },
    "scrolled": true
   },
   "outputs": [
    {
     "name": "stdout",
     "output_type": "stream",
     "text": [
      "65\n"
     ]
    },
    {
     "ename": "NameError",
     "evalue": "name 'abc' is not defined",
     "output_type": "error",
     "traceback": [
      "\u001b[0;31m---------------------------------------------------------------------------\u001b[0m",
      "\u001b[0;31mNameError\u001b[0m                                 Traceback (most recent call last)",
      "Input \u001b[0;32mIn [18]\u001b[0m, in \u001b[0;36m<cell line: 3>\u001b[0;34m()\u001b[0m\n\u001b[1;32m     28\u001b[0m p \u001b[38;5;241m=\u001b[39m doc_h5\u001b[38;5;241m.\u001b[39mfind_next_sibling(\u001b[38;5;124m'\u001b[39m\u001b[38;5;124mp\u001b[39m\u001b[38;5;124m'\u001b[39m)\n\u001b[1;32m     29\u001b[0m \u001b[38;5;28;01mif\u001b[39;00m \u001b[38;5;124m'\u001b[39m\u001b[38;5;124mKey\u001b[39m\u001b[38;5;124m'\u001b[39m \u001b[38;5;129;01min\u001b[39;00m p\u001b[38;5;241m.\u001b[39mtext\u001b[38;5;241m.\u001b[39mstrip():\n\u001b[0;32m---> 30\u001b[0m     \u001b[43mabc\u001b[49m\n\u001b[1;32m     31\u001b[0m dy_or_mon_name \u001b[38;5;241m=\u001b[39m \u001b[38;5;124m'\u001b[39m\u001b[38;5;124m'\u001b[39m\u001b[38;5;241m.\u001b[39mjoin(re\u001b[38;5;241m.\u001b[39mfindall(\u001b[38;5;124m'\u001b[39m\u001b[38;5;124mDyadic|Monadic\u001b[39m\u001b[38;5;124m'\u001b[39m,doc_h5\u001b[38;5;241m.\u001b[39mtext)) \u001b[38;5;241m+\u001b[39m \u001b[38;5;124m'\u001b[39m\u001b[38;5;124m: \u001b[39m\u001b[38;5;124m'\u001b[39m \u001b[38;5;241m+\u001b[39m p\u001b[38;5;241m.\u001b[39mtext\u001b[38;5;241m.\u001b[39mstrip()\n\u001b[1;32m     33\u001b[0m \u001b[38;5;66;03m# Mondadic/Dyadic Name -> Symbol\u001b[39;00m\n",
      "\u001b[0;31mNameError\u001b[0m: name 'abc' is not defined"
     ]
    }
   ],
   "source": [
    "card_names = []\n",
    "cards = []\n",
    "for i,sym in enumerate(L(*symbols_dict.keys())):\n",
    "    doc_url = symbols_dict[sym]\n",
    "    url1 = base + doc_url[2:]\n",
    "\n",
    "    content = requests.get(url1)\n",
    "    content.encoding = content.apparent_encoding\n",
    "    doc_html = BeautifulSoup(content.text)\n",
    "\n",
    "    doc_h5s = doc_html.find_all('h5')\n",
    "    doc_h3 = doc_html.find('td').find('a',attrs={'name':lambda o: not o.startswith('kanchor')})\n",
    "    \n",
    "    \n",
    "    if doc_html.find('td').text.strip() == '':\n",
    "        _2 = doc_h3['name']\n",
    "    else: _2 = doc_html.find('td').text.strip()\n",
    "    \n",
    "    # Name of glyph -> Symbol\n",
    "    card_names.append(pd.DataFrame([[_2 + \"<br/><br/>What does this glyph look like?\",\n",
    "                                sym + get_hyperlink(url1,\"symbol documentation\"),\n",
    "                               \"Name->Sym\"\n",
    "                               ]]))\n",
    "    urls = L(url1)\n",
    "    docs = ''\n",
    "    for doc_h5 in doc_h5s:\n",
    "        \n",
    "        p = doc_h5.find_next_sibling('p')\n",
    "        dy_or_mon_name = ''.join(re.findall('Dyadic|Monadic',doc_h5.text)) + ': ' + p.text.strip()\n",
    "        \n",
    "        # Mondadic/Dyadic Name -> Symbol\n",
    "        card_names.append(pd.DataFrame([[dy_or_mon_name + \"<br/><br/>What does this glyph look like?\",\n",
    "                                    sym + get_hyperlink(url1,\"symbol documentation\"),\n",
    "                                   \"Name->Sym\"\n",
    "                                   ]]))\n",
    "        _2  = _2 + ' <br/> ' + dy_or_mon_name \n",
    "        \n",
    "        \n",
    "        url_end = [o.find('a',attrs={'href':True}) for o in doc_h5.find_next_siblings('p') if o.find('a',attrs={'href':True}) is not None][0]['href']\n",
    "#         url2 = base + p.find('a',attrs={'href':True})['href'][2:]\n",
    "        url2 = base + url_end[2:]\n",
    "        urls.append(url2)\n",
    "        \n",
    "        content = requests.get(url2)\n",
    "        content.encoding = content.apparent_encoding\n",
    "        doc_html = BeautifulSoup(content.text)\n",
    "    \n",
    "        try:\n",
    "            desc = [o.text for o in doc_html.find('td').find_all_next('p') if o.text.strip() != '']\n",
    "\n",
    "            documentation = '<br/>'.join(desc)\n",
    "            docs = docs + documentation + '<br/><br/>' \n",
    "            # Functional documentation -> Symbol\n",
    "            cards.append(pd.DataFrame([[documentation + \"<br/><br/>What does this glyph look like?\",\n",
    "                                        sym + get_hyperlink(url1,\"symbol documentation\") + get_hyperlink(url2,\"primitive function documentation\"),\n",
    "                                       \"Docs->Sym\"\n",
    "                                       ]]))\n",
    "        except:\n",
    "            print(i)\n",
    "        try:\n",
    "            doc_name = doc_html.find('td').find('a',attrs={'name':lambda o: not o.startswith('kanchor')})\n",
    "            if doc_name['name'] not in _2:\n",
    "                # Documentation Name -> Symbol\n",
    "                cards.append(pd.DataFrame([[doc_name['name'] + \"<br/><br/>What does this glyph look like?\",\n",
    "                                            sym + get_hyperlink(url1,\"symbol documentation\") + get_hyperlink(url2,\"primitive function documentation\"),\n",
    "                                           \"Name->Sym\"\n",
    "                                           ]]))\n",
    "\n",
    "            # Documentation Name -> Functional Documentation\n",
    "            # Functional Documentation -> Documentation Name\n",
    "            cards.append(pd.DataFrame([\n",
    "                    [doc_name['name'] + \"<br/><br/>What does this glyph do?\",\n",
    "                     documentation + get_hyperlink(url1,\"symbol documentation\") + get_hyperlink(url2,\"primitive function documentation\"),\n",
    "                     \"Name->Docs\"\n",
    "                    ],\n",
    "                    [documentation + \"<br/><br/>What is the name of this glyph?\",\n",
    "                     doc_name['name'] + get_hyperlink(url1,\"symbol documentation\") + get_hyperlink(url2,\"primitive function documentation\"),\n",
    "                    \"Docs->Name\"\n",
    "                    ],\n",
    "                               \n",
    "                    ]))\n",
    "        except:\n",
    "            print(i)\n",
    "    \n",
    "    # Symbol -> Functional Documentation\n",
    "    cards.append(pd.DataFrame([[sym + \"<br/><br/>What does this glyph do?\",\n",
    "                                        docs + ''.join([get_hyperlink(o,\"Link\") for o in urls.unique()]),\n",
    "                                       \"Sym->Docs\"\n",
    "                                       ]]))\n",
    "    # Symbol -> Names\n",
    "    card_names.append(pd.DataFrame([[sym + \"<br/><br/>What is this glyph called?  What's the Monadic/Dyadic names?\",\n",
    "                                _2 + get_hyperlink(url1,\"symbol documentation\"),\n",
    "                               \"Sym->Name\"]]))"
   ]
  },
  {
   "cell_type": "code",
   "execution_count": 22,
   "id": "d494ff46",
   "metadata": {
    "ExecuteTime": {
     "end_time": "2022-07-13T16:57:31.815309Z",
     "start_time": "2022-07-13T16:57:31.803143Z"
    }
   },
   "outputs": [
    {
     "data": {
      "text/plain": [
       "'Quad Equal'"
      ]
     },
     "execution_count": 22,
     "metadata": {},
     "output_type": "execute_result"
    }
   ],
   "source": [
    "_2"
   ]
  },
  {
   "cell_type": "code",
   "execution_count": 21,
   "id": "b5562bf0",
   "metadata": {
    "ExecuteTime": {
     "end_time": "2022-07-13T16:56:55.703331Z",
     "start_time": "2022-07-13T16:56:55.690493Z"
    }
   },
   "outputs": [
    {
     "data": {
      "text/plain": [
       "'Monadic'"
      ]
     },
     "execution_count": 21,
     "metadata": {},
     "output_type": "execute_result"
    }
   ],
   "source": [
    "''.join(re.findall('Dyadic|Monadic',doc_h5.text))"
   ]
  },
  {
   "cell_type": "code",
   "execution_count": 20,
   "id": "c1b675aa",
   "metadata": {
    "ExecuteTime": {
     "end_time": "2022-07-13T16:56:41.589767Z",
     "start_time": "2022-07-13T16:56:41.579896Z"
    }
   },
   "outputs": [
    {
     "data": {
      "text/plain": [
       "'Key\\n'"
      ]
     },
     "execution_count": 20,
     "metadata": {},
     "output_type": "execute_result"
    }
   ],
   "source": [
    "p.text"
   ]
  },
  {
   "cell_type": "code",
   "execution_count": 6,
   "id": "4cad6c16",
   "metadata": {
    "ExecuteTime": {
     "end_time": "2022-07-12T23:59:24.818252Z",
     "start_time": "2022-07-12T23:59:24.741162Z"
    }
   },
   "outputs": [],
   "source": [
    "df = pd.concat(card_names)\n",
    "df.to_csv('decks/APL_DyalogDocs_Names.csv',index=False,header=False)\n",
    "df = pd.concat(cards)\n",
    "df.to_csv('decks/APL_DyalogDocs_Functionality.csv',index=False,header=False)"
   ]
  },
  {
   "cell_type": "markdown",
   "id": "9e8fea78",
   "metadata": {},
   "source": [
    "### Stuff that doesn't work quite right\n",
    "+ A few documentation pages have code cells mixed into the text.  Currently it only pulls \\<p> text cells so the code is lost.  That could be fixed, but it's infrequent and not a huge deal since there's hyperlinks.\n",
    "+ Fix the try/except stuff"
   ]
  },
  {
   "cell_type": "markdown",
   "id": "a2d14dfc",
   "metadata": {},
   "source": [
    "# General Cards from study group NB"
   ]
  },
  {
   "cell_type": "code",
   "execution_count": 7,
   "id": "467fcb76",
   "metadata": {
    "ExecuteTime": {
     "end_time": "2022-07-12T23:59:25.053531Z",
     "start_time": "2022-07-12T23:59:24.819500Z"
    }
   },
   "outputs": [],
   "source": [
    "url = 'https://raw.githubusercontent.com/fastai/apl-study/master/APL.ipynb'\n",
    "nb = json.loads(urlopen(url).read())"
   ]
  },
  {
   "cell_type": "code",
   "execution_count": 8,
   "id": "f983228b",
   "metadata": {
    "ExecuteTime": {
     "end_time": "2022-07-12T23:59:25.076245Z",
     "start_time": "2022-07-12T23:59:25.060357Z"
    }
   },
   "outputs": [],
   "source": [
    "# Define newlines on cards\n",
    "def collapse_list(l): return '<br/>'.join(l) + '<br/>'\n",
    "\n",
    "def get_hyperlink(url,url_type):\n",
    "    return f\" <br/><br/><a href='{url}'>Take me to {url_type}</a>\""
   ]
  },
  {
   "cell_type": "code",
   "execution_count": 9,
   "id": "c1db45da",
   "metadata": {
    "ExecuteTime": {
     "end_time": "2022-07-12T23:59:25.081526Z",
     "start_time": "2022-07-12T23:59:25.078610Z"
    }
   },
   "outputs": [],
   "source": [
    "def cell_filter(cell):\n",
    "    cond1 = cell['cell_type'] == 'code'\n",
    "    cond2 = ('outputs' in cell.keys()) and (cell['outputs'] != [])\n",
    "    cond3 = cell['source'] != []\n",
    "    return cond1 and cond2 and cond3"
   ]
  },
  {
   "cell_type": "code",
   "execution_count": 10,
   "id": "b74f0737",
   "metadata": {
    "ExecuteTime": {
     "end_time": "2022-07-12T23:59:25.086180Z",
     "start_time": "2022-07-12T23:59:25.084242Z"
    }
   },
   "outputs": [],
   "source": [
    "filtered_codes = L(nb['cells']).filter(cell_filter)"
   ]
  },
  {
   "cell_type": "code",
   "execution_count": 11,
   "id": "03c2b81d",
   "metadata": {
    "ExecuteTime": {
     "end_time": "2022-07-12T23:59:25.120226Z",
     "start_time": "2022-07-12T23:59:25.087357Z"
    }
   },
   "outputs": [],
   "source": [
    "base = 'https://help.dyalog.com/18.2/Content/Language'\n",
    "\n",
    "code_cards = []\n",
    "for i,cell in enumerate(filtered_codes):\n",
    "    _src = cell['source']\n",
    "        \n",
    "    _split = [[char for char in line] for line in _src]\n",
    "    \n",
    "    _split = [o for sublist in _split for o in sublist]\n",
    "    _symbol_locs = {o:symbols_dict[o] for o in _split if o in filter_dict(symbols_dict,lambda k,v: k!='.').keys()}\n",
    "    _symbol_locs\n",
    "\n",
    "    urls = []\n",
    "    \n",
    "    src = collapse_list(_src)\n",
    "    out = ''.join(cell['outputs'][0]['data']['text/html'])\n",
    "    out = out + ''.join([get_hyperlink(base+u[2:],s) for s,u in _symbol_locs.items()])\n",
    "    code_cards.append(pd.DataFrame([[src + f\" <br/><br/>What does the code output?\",out,\"Code->Output\"]]))"
   ]
  },
  {
   "cell_type": "code",
   "execution_count": 12,
   "id": "89abf025",
   "metadata": {
    "ExecuteTime": {
     "end_time": "2022-07-12T23:59:25.128391Z",
     "start_time": "2022-07-12T23:59:25.121466Z"
    }
   },
   "outputs": [],
   "source": [
    "df = pd.concat(code_cards)"
   ]
  },
  {
   "cell_type": "code",
   "execution_count": 13,
   "id": "e13ea26a",
   "metadata": {
    "ExecuteTime": {
     "end_time": "2022-07-12T23:59:25.133680Z",
     "start_time": "2022-07-12T23:59:25.129807Z"
    }
   },
   "outputs": [],
   "source": [
    "df.to_csv('decks/APL_FastaiStudyGroup_CodeCards.csv',index=False,header=False)"
   ]
  },
  {
   "cell_type": "markdown",
   "id": "572a076a",
   "metadata": {},
   "source": [
    "# APL Cart"
   ]
  },
  {
   "cell_type": "code",
   "execution_count": 14,
   "id": "6b9d7652",
   "metadata": {
    "ExecuteTime": {
     "end_time": "2022-07-12T23:59:26.455582Z",
     "start_time": "2022-07-12T23:59:25.134757Z"
    }
   },
   "outputs": [],
   "source": [
    "url = 'https://raw.githubusercontent.com/abrudz/aplcart/master/table.tsv'\n",
    "df = pd.read_csv(url, sep='\\t')"
   ]
  },
  {
   "cell_type": "code",
   "execution_count": 15,
   "id": "c08f2b15",
   "metadata": {
    "ExecuteTime": {
     "end_time": "2022-07-12T23:59:26.464391Z",
     "start_time": "2022-07-12T23:59:26.456783Z"
    }
   },
   "outputs": [],
   "source": [
    "front = df['SYNTAX']\n",
    "back = df['DESCRIPTION'].astype(str) + ' <br/>'*2 + \"<a href='\" + df['DOCS'].astype(str) + \"'>Link to docs<a/>\"\n",
    "g1 = pd.DataFrame({'front':front,'back':back})"
   ]
  },
  {
   "cell_type": "code",
   "execution_count": 16,
   "id": "3449f48a",
   "metadata": {
    "ExecuteTime": {
     "end_time": "2022-07-12T23:59:26.470805Z",
     "start_time": "2022-07-12T23:59:26.465656Z"
    }
   },
   "outputs": [],
   "source": [
    "front = df['DESCRIPTION']\n",
    "back = df['SYNTAX'].astype(str) + ' <br/>'*2 + \"<a href='\" + df['DOCS'].astype(str) + \"'>Link to docs<a/>\"\n",
    "g2 = pd.DataFrame({'front':front,'back':back})"
   ]
  },
  {
   "cell_type": "code",
   "execution_count": 17,
   "id": "300291a8",
   "metadata": {
    "ExecuteTime": {
     "end_time": "2022-07-12T23:59:26.499081Z",
     "start_time": "2022-07-12T23:59:26.471933Z"
    }
   },
   "outputs": [],
   "source": [
    "cards = pd.concat([g1,g2])\n",
    "cards.to_csv('decks/APL_AplCart.csv',index=False,header=False)"
   ]
  },
  {
   "cell_type": "code",
   "execution_count": null,
   "id": "83a577db",
   "metadata": {},
   "outputs": [],
   "source": []
  }
 ],
 "metadata": {
  "kernelspec": {
   "display_name": "Python 3 (ipykernel)",
   "language": "python",
   "name": "python3"
  },
  "language_info": {
   "codemirror_mode": {
    "name": "ipython",
    "version": 3
   },
   "file_extension": ".py",
   "mimetype": "text/x-python",
   "name": "python",
   "nbconvert_exporter": "python",
   "pygments_lexer": "ipython3",
   "version": "3.9.7"
  },
  "toc": {
   "base_numbering": 1,
   "nav_menu": {},
   "number_sections": true,
   "sideBar": true,
   "skip_h1_title": false,
   "title_cell": "Table of Contents",
   "title_sidebar": "Contents",
   "toc_cell": false,
   "toc_position": {},
   "toc_section_display": true,
   "toc_window_display": false
  }
 },
 "nbformat": 4,
 "nbformat_minor": 5
}
